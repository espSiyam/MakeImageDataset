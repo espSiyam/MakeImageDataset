{
 "cells": [
  {
   "cell_type": "markdown",
   "metadata": {},
   "source": [
    "# Download images from google by batch"
   ]
  },
  {
   "cell_type": "markdown",
   "metadata": {},
   "source": [
    "1. Go to the Google Image ['https://www.google.com/imghp?hl=ENhttps://www.google.com/imghp?hl=EN']\n",
    "2. Sear the image name and scroll down till the relevent photos\n",
    "3. Go to the developer mode in chrome\n",
    "4. Paste these js code step by step"
   ]
  },
  {
   "cell_type": "code",
   "execution_count": null,
   "metadata": {},
   "outputs": [],
   "source": [
    "/**\n",
    " * simulate a right-click event so we can grab the image URL using the\n",
    " * context menu alleviating the need to navigate to another page\n",
    " *\n",
    " * attributed to @jmiserez: http://pyimg.co/9qe7y\n",
    " *\n",
    " * @param   {object}  element  DOM Element\n",
    " *\n",
    " * @return  {void}\n",
    " */\n",
    "function simulateRightClick( element ) {\n",
    "    var event1 = new MouseEvent( 'mousedown', {\n",
    "        bubbles: true,\n",
    "        cancelable: false,\n",
    "        view: window,\n",
    "        button: 2,\n",
    "        buttons: 2,\n",
    "        clientX: element.getBoundingClientRect().x,\n",
    "        clientY: element.getBoundingClientRect().y\n",
    "    } );\n",
    "    element.dispatchEvent( event1 );\n",
    "    var event2 = new MouseEvent( 'mouseup', {\n",
    "        bubbles: true,\n",
    "        cancelable: false,\n",
    "        view: window,\n",
    "        button: 2,\n",
    "        buttons: 0,\n",
    "        clientX: element.getBoundingClientRect().x,\n",
    "        clientY: element.getBoundingClientRect().y\n",
    "    } );\n",
    "    element.dispatchEvent( event2 );\n",
    "    var event3 = new MouseEvent( 'contextmenu', {\n",
    "        bubbles: true,\n",
    "        cancelable: false,\n",
    "        view: window,\n",
    "        button: 2,\n",
    "        buttons: 0,\n",
    "        clientX: element.getBoundingClientRect().x,\n",
    "        clientY: element.getBoundingClientRect().y\n",
    "    } );\n",
    "    element.dispatchEvent( event3 );\n",
    "}"
   ]
  },
  {
   "cell_type": "code",
   "execution_count": null,
   "metadata": {},
   "outputs": [],
   "source": [
    "/**\n",
    " * grabs a URL Parameter from a query string because Google Images\n",
    " * stores the full image URL in a query parameter\n",
    " *\n",
    " * @param   {string}  queryString  The Query String\n",
    " * @param   {string}  key          The key to grab a value for\n",
    " *\n",
    " * @return  {string}               value\n",
    " */\n",
    "function getURLParam( queryString, key ) {\n",
    "    var vars = queryString.replace( /^\\?/, '' ).split( '&' );\n",
    "    for ( let i = 0; i < vars.length; i++ ) {\n",
    "        let pair = vars[ i ].split( '=' );\n",
    "        if ( pair[0] == key ) {\n",
    "            return pair[1];\n",
    "        }\n",
    "    }\n",
    "    return false;\n",
    "}"
   ]
  },
  {
   "cell_type": "code",
   "execution_count": null,
   "metadata": {},
   "outputs": [],
   "source": [
    "/**\n",
    " * Generate and automatically download a txt file from the URL contents\n",
    " *\n",
    " * @param   {string}  contents  The contents to download\n",
    " *\n",
    " * @return  {void}\n",
    " */\n",
    "function createDownload( contents ) {\n",
    "    var hiddenElement = document.createElement( 'a' );\n",
    "    hiddenElement.href = 'data:attachment/text,' + encodeURI( contents );\n",
    "    hiddenElement.target = '_blank';\n",
    "    hiddenElement.download = 'urls.txt';\n",
    "    hiddenElement.click();\n",
    "}"
   ]
  },
  {
   "cell_type": "code",
   "execution_count": null,
   "metadata": {},
   "outputs": [],
   "source": [
    "/**\n",
    " * grab all URLs va a Promise that resolves once all URLs have been\n",
    " * acquired\n",
    " *\n",
    " * @return  {object}  Promise object\n",
    " */\n",
    "function grabUrls() {\n",
    "    var urls = [];\n",
    "    return new Promise( function( resolve, reject ) {\n",
    "        var count = document.querySelectorAll(\n",
    "        \t'.isv-r a:first-of-type' ).length,\n",
    "            index = 0;\n",
    "        Array.prototype.forEach.call( document.querySelectorAll(\n",
    "        \t'.isv-r a:first-of-type' ), function( element ) {\n",
    "            // using the right click menu Google will generate the\n",
    "            // full-size URL; won't work in Internet Explorer\n",
    "            // (http://pyimg.co/byukr)\n",
    "            simulateRightClick( element.querySelector( ':scope img' ) );\n",
    "            // Wait for it to appear on the <a> element\n",
    "            var interval = setInterval( function() {\n",
    "                if ( element.href.trim() !== '' ) {\n",
    "                    clearInterval( interval );\n",
    "                    // extract the full-size version of the image\n",
    "                    let googleUrl = element.href.replace( /.*(\\?)/, '$1' ),\n",
    "                        fullImageUrl = decodeURIComponent(\n",
    "                        \tgetURLParam( googleUrl, 'imgurl' ) );\n",
    "                    if ( fullImageUrl !== 'false' ) {\n",
    "                        urls.push( fullImageUrl );\n",
    "                    }\n",
    "                    // sometimes the URL returns a \"false\" string and\n",
    "                    // we still want to count those so our Promise\n",
    "                    // resolves\n",
    "                    index++;\n",
    "                    if ( index == ( count - 1 ) ) {\n",
    "                        resolve( urls );\n",
    "                    }\n",
    "                }\n",
    "            }, 10 );\n",
    "        } );\n",
    "    } );\n",
    "}"
   ]
  },
  {
   "cell_type": "markdown",
   "metadata": {},
   "source": [
    "Finally, this last cell will download a text file with all relevent links to the images"
   ]
  },
  {
   "cell_type": "code",
   "execution_count": null,
   "metadata": {},
   "outputs": [],
   "source": [
    "/**\n",
    " * Call the main function to grab the URLs and initiate the download\n",
    " */\n",
    "grabUrls().then( function( urls ) {\n",
    "    urls = urls.join( '\\n' );\n",
    "    createDownload( urls );\n",
    "} );"
   ]
  }
 ],
 "metadata": {
  "kernelspec": {
   "display_name": "Python 3",
   "language": "python",
   "name": "python3"
  },
  "language_info": {
   "codemirror_mode": {
    "name": "ipython",
    "version": 3
   },
   "file_extension": ".py",
   "mimetype": "text/x-python",
   "name": "python",
   "nbconvert_exporter": "python",
   "pygments_lexer": "ipython3",
   "version": "3.7.7"
  }
 },
 "nbformat": 4,
 "nbformat_minor": 4
}
